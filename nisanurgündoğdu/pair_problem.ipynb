{
 "cells": [
  {
   "cell_type": "code",
   "execution_count": 57,
   "metadata": {},
   "outputs": [],
   "source": [
    "def harfkontrol(isim):\n",
    "    cantadakiharf=input('çantadaki harfleri giriniz?)')\n",
    "    lst = []\n",
    "    for e in cantadakiharf:\n",
    "        if e in isim:\n",
    "            lst.append(e)\n",
    "    if len(lst) == len(isim):\n",
    "        return 'fevkaledenin fevkinde'\n",
    "    return 'yapamazsın'"
   ]
  },
  {
   "cell_type": "code",
   "execution_count": 59,
   "metadata": {},
   "outputs": [
    {
     "name": "stdout",
     "output_type": "stream",
     "text": [
      "çantadaki harfleri giriniz?)nis\n"
     ]
    },
    {
     "data": {
      "text/plain": [
       "'yapamazsın'"
      ]
     },
     "execution_count": 59,
     "metadata": {},
     "output_type": "execute_result"
    }
   ],
   "source": [
    "harfkontrol('nisa')"
   ]
  },
  {
   "cell_type": "code",
   "execution_count": 56,
   "metadata": {},
   "outputs": [
    {
     "data": {
      "text/plain": [
       "'asin'"
      ]
     },
     "execution_count": 56,
     "metadata": {},
     "output_type": "execute_result"
    }
   ],
   "source": [
    "def cevir(a_cevir):\n",
    "    return a_cevir[::-1]\n",
    "\n",
    "cevir('nisa')\n"
   ]
  }
 ],
 "metadata": {
  "kernelspec": {
   "display_name": "Python 3",
   "language": "python",
   "name": "python3"
  },
  "language_info": {
   "codemirror_mode": {
    "name": "ipython",
    "version": 3
   },
   "file_extension": ".py",
   "mimetype": "text/x-python",
   "name": "python",
   "nbconvert_exporter": "python",
   "pygments_lexer": "ipython3",
   "version": "3.7.4"
  }
 },
 "nbformat": 4,
 "nbformat_minor": 2
}
